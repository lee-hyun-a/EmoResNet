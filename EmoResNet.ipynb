{
  "cells": [
    {
      "cell_type": "code",
      "execution_count": null,
      "metadata": {
        "id": "iBURpYwpOpUT"
      },
      "outputs": [],
      "source": [
        "import pandas as pd\n",
        "import numpy as np\n",
        "import scipy as sp\n",
        "import os\n",
        "import random\n",
        "import matplotlib.pyplot as plt\n",
        "from time import time\n",
        "import cv2\n",
        "\n",
        "from sklearn.metrics import confusion_matrix, recall_score, precision_score, accuracy_score, roc_auc_score\n",
        "\n",
        "import tensorflow as tf\n",
        "import keras\n",
        "from keras import layers\n",
        "from keras import backend as K\n",
        "from keras.models import load_model\n",
        "from keras.callbacks import EarlyStopping\n",
        "from keras.callbacks import ModelCheckpoint\n",
        "from keras.utils.np_utils import to_categorical\n",
        "from keras import models\n",
        "from keras.applications import VGG16\n",
        "from keras.applications.vgg16 import preprocess_input"
      ]
    },
    {
      "cell_type": "code",
      "execution_count": null,
      "metadata": {
        "id": "9eN-DlJEOpUY"
      },
      "outputs": [],
      "source": [
        "def convert_to_image(pixels):\n",
        "    pixels = np.array([int(i) for i in pixels.split()]).astype('float32')\n",
        "    dst = cv2.resize(pixels.reshape(48,48, 1), dsize=(75, 75), interpolation=cv2.INTER_AREA)\n",
        "    dst = cv2.cvtColor(dst, cv2.COLOR_GRAY2BGR)\n",
        "    return dst\n",
        "\n",
        "def read_data(df, usage_type):\n",
        "\n",
        "    X = df[ df['Usage'] == usage_type ]['pixels'].values\n",
        "    y = to_categorical(df[ df['Usage'] == usage_type ]['emotion'].values)\n",
        "    X = np.array([ convert_to_image(X[i]) for i in range(len(X)) ])\n",
        "\n",
        "    return X, y"
      ]
    },
    {
      "cell_type": "code",
      "execution_count": null,
      "metadata": {
        "id": "7XI_M1H6OpUZ"
      },
      "outputs": [],
      "source": [
        "df = pd.read_csv('data/fer2013.csv')\n",
        "\n",
        "train_X, train_y = read_data(df, 'Training')\n",
        "val_X, val_y = read_data(df, 'PublicTest')\n",
        "test_X, test_y = read_data(df, 'PrivateTest')\n",
        "\n",
        "train_X = keras.applications.resnet50.preprocess_input(train_X)\n",
        "val_X = keras.applications.resnet50.preprocess_input(val_X)\n",
        "test_X = keras.applications.resnet50.preprocess_input(test_X)"
      ]
    },
    {
      "cell_type": "code",
      "execution_count": null,
      "metadata": {
        "id": "HI1o1oTfOpUb",
        "outputId": "65b0c375-7e9c-4991-cfc7-4ecdab8dfebd"
      },
      "outputs": [
        {
          "name": "stdout",
          "output_type": "stream",
          "text": [
            "(28709, 75, 75, 3) (28709, 7)\n",
            "(3589, 75, 75, 3) (3589, 7)\n",
            "(3589, 75, 75, 3) (3589, 7)\n"
          ]
        }
      ],
      "source": [
        "print(train_X.shape, train_y.shape)\n",
        "print(val_X.shape, val_y.shape)\n",
        "print(test_X.shape, test_y.shape)"
      ]
    },
    {
      "cell_type": "code",
      "execution_count": null,
      "metadata": {
        "id": "yCAPrMorOpUc"
      },
      "outputs": [],
      "source": [
        "from IPython.display import clear_output\n",
        "\n",
        "class LogCallback(keras.callbacks.Callback):\n",
        "\n",
        "    def __init__(self):\n",
        "\n",
        "        super().__init__()\n",
        "\n",
        "    def on_epoch_end(self, epoch, logs=None):\n",
        "\n",
        "        mepoch = epoch + 1\n",
        "\n",
        "        clear_output()\n",
        "        print(logs)\n",
        "\n",
        "\n",
        "class EmotResNet(models.Model):\n",
        "\n",
        "    def __init__(self, input_shape=(75, 75, 3)):\n",
        "\n",
        "        x = layers.Input(shape=input_shape)\n",
        "        base = keras.applications.resnet.ResNet50(include_top=True, weights = None, input_tensor=x, pooling=None, classes=7)\n",
        "\n",
        "        super().__init__(x, base.output)\n",
        "\n",
        "        self.compile(loss='categorical_crossentropy',\n",
        "                     optimizer = keras.optimizers.Adamax(lr=0.002), metrics=['accuracy'])\n",
        "\n",
        "\n",
        "def train(X_train, y_train, X_test, y_test, prefix='emot'):\n",
        "\n",
        "    start_time = time()\n",
        "\n",
        "    logCallback = LogCallback()\n",
        "    es = EarlyStopping(monitor='val_loss', mode='min', verbose=1, patience=20)\n",
        "    mc = ModelCheckpoint('model/{}_{}.h5'.format(prefix,start_time), monitor='val_accuracy', mode='max', save_best_only=True)\n",
        "    tensorboard = keras.callbacks.TensorBoard(log_dir='logs/fer_{}_{}'.format(prefix,start_time))\n",
        "    callbacks_list = [logCallback, tensorboard,  mc]\n",
        "\n",
        "    emotResNet = EmotResNet()\n",
        "\n",
        "    datagen = keras.preprocessing.image.ImageDataGenerator(\n",
        "        rotation_range=15,\n",
        "        width_shift_range=0.15,\n",
        "        height_shift_range=0.15,\n",
        "        horizontal_flip=True)\n",
        "\n",
        "    datagen.fit(train_X)\n",
        "\n",
        "    # fits the model on batches with real-time data augmentation:\n",
        "    history = emotResNet.fit_generator(datagen.flow(train_X, train_y, batch_size=32),\n",
        "                        steps_per_epoch=len(train_X) / 32, epochs=1000,\n",
        "                                   callbacks=callbacks_list,\n",
        "                                 validation_data = (X_test, y_test))\n",
        "\n",
        "    end_time = time()\n",
        "    elapsed_time = end_time - start_time\n",
        "    print('elapsed time: {}'.format(elapsed_time))\n",
        "\n",
        "    return emoNet, history\n"
      ]
    },
    {
      "cell_type": "code",
      "execution_count": null,
      "metadata": {
        "id": "OY3KwLdHOpUd",
        "outputId": "fd83876b-c9f1-4460-edc6-7f2e89bbc04b"
      },
      "outputs": [
        {
          "name": "stdout",
          "output_type": "stream",
          "text": [
            "{'val_loss': 1.46109274962248, 'val_accuracy': 0.4561159014701843, 'loss': 1.3211024159850977, 'accuracy': 0.4997039}\n",
            "Epoch 7/1000\n",
            "513/897 [================>.............] - ETA: 24s - loss: 1.2622 - accuracy: 0.5199"
          ]
        }
      ],
      "source": [
        "train(train_X, train_y, test_X, test_y, prefix='emotResNet')"
      ]
    },
    {
      "cell_type": "code",
      "execution_count": null,
      "metadata": {
        "id": "yissNKBpOpUg",
        "outputId": "1b4e55cd-dd35-4d8b-82aa-11bc8125a2f4"
      },
      "outputs": [
        {
          "name": "stderr",
          "output_type": "stream",
          "text": [
            "WARNING: Logging before flag parsing goes to stderr.\n",
            "W0214 01:18:01.468912 140007639553856 deprecation_wrapper.py:119] From /usr/local/lib/python3.6/dist-packages/keras/backend/tensorflow_backend.py:4070: The name tf.nn.max_pool is deprecated. Please use tf.nn.max_pool2d instead.\n",
            "\n",
            "W0214 01:18:06.556760 140007639553856 deprecation_wrapper.py:119] From /usr/local/lib/python3.6/dist-packages/keras/backend/tensorflow_backend.py:422: The name tf.global_variables is deprecated. Please use tf.compat.v1.global_variables instead.\n",
            "\n"
          ]
        }
      ],
      "source": [
        "emotNet = EmotResNet()\n",
        "emotNet.load_weights(\n",
        "    'model/emotResNet.h5'\n",
        ")\n",
        "\n",
        "emotion = {'anger': 0, 'disgust': 1, 'fear': 2, 'happiness': 3,\n",
        "           'sadness': 4, 'surprise': 5, 'neutral': 6}\n",
        "\n",
        "preds = np.argmax(emotNet.predict(test_X),-1)\n",
        "answer = np.argmax(test_y,-1)"
      ]
    },
    {
      "cell_type": "code",
      "execution_count": null,
      "metadata": {
        "id": "YrXMzC0KOpUg",
        "outputId": "7492f138-1606-4878-807c-c56d4f62ac66"
      },
      "outputs": [
        {
          "data": {
            "image/png": "[encoded data removed]",
            "text/plain": [
              "<Figure size 432x288 with 2 Axes>"
            ]
          },
          "metadata": {
            "needs_background": "light"
          },
          "output_type": "display_data"
        }
      ],
      "source": [
        "#from sklearn.metrics import accuracy_score, precision_score, precision_recall_curve\n",
        "from sklearn.metrics import classification_report, confusion_matrix\n",
        "#from sklearn.metrics import roc_curve, roc_auc_score\n",
        "import matplotlib.pyplot as plt\n",
        "import pandas as pd\n",
        "import numpy as np\n",
        "import itertools\n",
        "\n",
        "true_labels = answer\n",
        "predicted_labels = preds\n",
        "\n",
        "'''for i in range(len(true_labels)):\n",
        "    true_labels[i] = emotion[true_labels[i]]\n",
        "    predicted_labels[i] = emotion[predicted_labels[i]]'''\n",
        "\n",
        "# now to get confusion matrix one can use the confusion_matrix\n",
        "# utility provided by sklearn\n",
        "conf_mat = confusion_matrix(true_labels, predicted_labels)\n",
        "\n",
        "# now it's time to plot the matrix\n",
        "# some standard matplotlib code\n",
        "# add a subplot\n",
        "fig = plt.figure()\n",
        "ax = fig.add_subplot(111)\n",
        "\n",
        "# plot the matrix\n",
        "cax = ax.matshow(conf_mat)\n",
        "\n",
        "# add colorbar for reference\n",
        "fig.colorbar(cax)\n",
        "\n",
        "# add labels to plot\n",
        "plt.xlabel(\"Predicted\")\n",
        "plt.ylabel(\"True\")\n",
        "#plt.savefig(\"Conf_Mat.jpg\")\n",
        "plt.show()\n",
        "\n"
      ]
    },
    {
      "cell_type": "code",
      "execution_count": null,
      "metadata": {
        "id": "GHiVil_SOpUh",
        "outputId": "cc5af7f6-e8c2-4d10-ed61-e2d5556e556a"
      },
      "outputs": [
        {
          "data": {
            "image/png": "[encoded data removed]",
            "text/plain": [
              "<Figure size 576x432 with 2 Axes>"
            ]
          },
          "metadata": {
            "needs_background": "light"
          },
          "output_type": "display_data"
        }
      ],
      "source": [
        "conf_mat_norm = conf_mat.astype('float') / conf_mat.sum(axis=1)[:, np.newaxis]\n",
        "\n",
        "def plot_confusion_matrix(cm, target_names=emotion, cmap=None, normalize=True, labels=True, title='Confusion matrix'):\n",
        "    accuracy = np.trace(cm) / float(np.sum(cm))\n",
        "    misclass = 1 - accuracy\n",
        "\n",
        "    if cmap is None:\n",
        "        cmap = plt.get_cmap('Blues')\n",
        "\n",
        "    if normalize:\n",
        "        cm = cm.astype('float') / cm.sum(axis=1)[:, np.newaxis]\n",
        "\n",
        "    plt.figure(figsize=(8, 6))\n",
        "    plt.imshow(cm, interpolation='nearest', cmap=cmap)\n",
        "    plt.title(title)\n",
        "    plt.colorbar()\n",
        "\n",
        "    thresh = cm.max() / 1.5 if normalize else cm.max() / 2\n",
        "    plt.ylim((-0.5,6.5))\n",
        "\n",
        "    if target_names is not None:\n",
        "        tick_marks = np.arange(len(target_names))\n",
        "        plt.xticks(tick_marks, target_names)\n",
        "        plt.yticks(tick_marks, target_names)\n",
        "\n",
        "    if labels:\n",
        "        for i, j in itertools.product(range(cm.shape[0]), range(cm.shape[1])):\n",
        "            if normalize:\n",
        "                plt.text(j, i, \"{:0.4f}\".format(cm[i, j]),\n",
        "                         horizontalalignment=\"center\",\n",
        "                         color=\"white\" if cm[i, j] > thresh else \"black\")\n",
        "            else:\n",
        "                plt.text(j, i, \"{:,}\".format(cm[i, j]),\n",
        "                         horizontalalignment=\"center\",\n",
        "                         color=\"white\" if cm[i, j] > thresh else \"black\")\n",
        "\n",
        "    plt.tight_layout()\n",
        "    plt.ylabel('True label')\n",
        "    plt.xlabel('Predicted label')\n",
        "    #plt.xlabel('Predicted label\\naccuracy={:0.4f}; misclass={:0.4f}'.format(accuracy, misclass))\n",
        "    #plt.savefig(\"Conf_Mat.jpg\")\n",
        "    plt.show()\n",
        "\n",
        "plot_confusion_matrix(conf_mat_norm)"
      ]
    },
    {
      "cell_type": "code",
      "execution_count": null,
      "metadata": {
        "id": "cRL1KyBqOpUh",
        "outputId": "f04b7305-8566-4fd9-dd91-d17172018c0b"
      },
      "outputs": [
        {
          "name": "stdout",
          "output_type": "stream",
          "text": [
            "Classificcation Report: \n",
            "              precision    recall  f1-score   support\n",
            "\n",
            "           0       0.60      0.65      0.63       491\n",
            "           1       0.78      0.73      0.75        55\n",
            "           2       0.61      0.55      0.58       528\n",
            "           3       0.90      0.89      0.89       879\n",
            "           4       0.60      0.55      0.57       594\n",
            "           5       0.83      0.82      0.83       416\n",
            "           6       0.65      0.73      0.69       626\n",
            "\n",
            "    accuracy                           0.71      3589\n",
            "   macro avg       0.71      0.70      0.71      3589\n",
            "weighted avg       0.71      0.71      0.71      3589\n",
            "\n"
          ]
        }
      ],
      "source": [
        "print(\"Classificcation Report: \\n{}\".format(classification_report(true_labels, predicted_labels)))"
      ]
    },
    {
      "cell_type": "code",
      "execution_count": null,
      "metadata": {
        "id": "Vc29KIXkOpUh"
      },
      "outputs": [],
      "source": []
    }
  ],
  "metadata": {
    "kernelspec": {
      "display_name": "Python 3",
      "language": "python",
      "name": "python3"
    },
    "language_info": {
      "codemirror_mode": {
        "name": "ipython",
        "version": 3
      },
      "file_extension": ".py",
      "mimetype": "text/x-python",
      "name": "python",
      "nbconvert_exporter": "python",
      "pygments_lexer": "ipython3",
      "version": "3.6.9"
    },
    "colab": {
      "provenance": []
    }
  },
  "nbformat": 4,
  "nbformat_minor": 0
}